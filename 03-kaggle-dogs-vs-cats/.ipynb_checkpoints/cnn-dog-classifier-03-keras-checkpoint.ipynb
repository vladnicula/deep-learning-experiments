{
 "cells": [
  {
   "cell_type": "code",
   "execution_count": 33,
   "metadata": {},
   "outputs": [],
   "source": [
    "# Keras attempt\n",
    "# if this works with a similar layout to 02 it means I wrote the networks\n",
    "# in a bad way - which means I need to study more the math and tensorflow matrix\n",
    "# config to understand it better\n",
    "\n",
    "# keras setup is here: http://www.pyimagesearch.com/2016/11/14/installing-keras-with-tensorflow-backend/\n",
    "\n",
    "from keras.models import Sequential\n",
    "from keras.layers import Dense, Activation, Convolution2D, MaxPooling2D, Flatten, Dropout\n"
   ]
  },
  {
   "cell_type": "code",
   "execution_count": 37,
   "metadata": {},
   "outputs": [],
   "source": [
    "# import of data is unchanged\n",
    "import os\n",
    "import numpy as np\n",
    "\n",
    "IMG_SIZE = 120\n",
    "NUM_CHANELS = 3\n",
    "PREPARED_TRAIN_DATA_PATH='/home/vlad/projects/deep-learning-nano/03-kaggle-dogs-vs-cats/train_data.{}-beta.npy'.format(IMG_SIZE)\n",
    "\n",
    "def get_prepared_input_data(): \n",
    "    training_data = []\n",
    "    \n",
    "    if os.path.isfile(PREPARED_TRAIN_DATA_PATH):\n",
    "        training_data = np.load(PREPARED_TRAIN_DATA_PATH)\n",
    "        return training_data\n",
    "    else:\n",
    "        print 'No data found!!'\n",
    "    \n",
    "    return training_data\n",
    "    \n",
    "training_data = get_prepared_input_data()\n",
    "\n",
    "\n",
    "def get_working_training_data(training_data):\n",
    "    partial_training_data = training_data[:-500]\n",
    "    partial_training_data = training_data[:2000] # super fast test with just the first 10k\n",
    "    # the input for the nn will be the image data, which was saved as an array \n",
    "    training_image_data = np.array([i[0] for i in partial_training_data]).reshape(-1, IMG_SIZE, IMG_SIZE, NUM_CHANELS)\n",
    "    # the expected results are saved as the second column in the data file\n",
    "    training_result_data = [i[1] for i in partial_training_data]\n",
    "    \n",
    "    test_data = training_data[-500:]\n",
    "    \n",
    "    # the input for the nn will be the image data, which was saved as an array \n",
    "    test_image_data = np.array([i[0] for i in test_data]).reshape(-1, IMG_SIZE, IMG_SIZE, NUM_CHANELS)\n",
    "    # the expected results are saved as the second column in the data file\n",
    "    test_result_data = [i[1] for i in test_data]\n",
    "    \n",
    "    return [\n",
    "        [training_image_data, training_result_data], \n",
    "        [test_image_data, test_result_data]\n",
    "    ]"
   ]
  },
  {
   "cell_type": "code",
   "execution_count": 42,
   "metadata": {},
   "outputs": [],
   "source": [
    "model = Sequential()\n",
    "\n",
    "model.add(Convolution2D(32, (3, 3), input_shape=(IMG_SIZE, IMG_SIZE, NUM_CHANELS)))\n",
    "model.add(Activation('relu'))\n",
    "model.add(MaxPooling2D(pool_size=(2,2)))\n",
    "\n",
    "model.add(Convolution2D(32, (3, 3)))\n",
    "model.add(Activation('relu'))\n",
    "model.add(MaxPooling2D(pool_size=(2,2)))\n",
    "\n",
    "model.add(Convolution2D(64, (3, 3)))\n",
    "model.add(Activation('relu'))\n",
    "model.add(MaxPooling2D(pool_size=(2,2)))\n",
    "\n",
    "model.add(Flatten())\n",
    "model.add(Dense(512))\n",
    "model.add(Activation('relu'))\n",
    "model.add(Dropout(0.75))\n",
    "model.add(Dense(2))\n",
    "model.add(Activation('sigmoid'))\n"
   ]
  },
  {
   "cell_type": "code",
   "execution_count": 43,
   "metadata": {
    "collapsed": true
   },
   "outputs": [],
   "source": [
    "model.compile(\n",
    "    loss='binary_crossentropy',\n",
    "    optimizer='rmsprop',\n",
    "    metrics=['accuracy']\n",
    ")"
   ]
  },
  {
   "cell_type": "code",
   "execution_count": 46,
   "metadata": {},
   "outputs": [
    {
     "ename": "ValueError",
     "evalue": "too many values to unpack",
     "output_type": "error",
     "traceback": [
      "\u001b[0;31m---------------------------------------------------------------------------\u001b[0m",
      "\u001b[0;31mValueError\u001b[0m                                Traceback (most recent call last)",
      "\u001b[0;32m<ipython-input-46-ee650117c926>\u001b[0m in \u001b[0;36m<module>\u001b[0;34m()\u001b[0m\n\u001b[0;32m----> 1\u001b[0;31m \u001b[0mtraining_input\u001b[0m\u001b[0;34m,\u001b[0m \u001b[0mtraining_targets\u001b[0m \u001b[0;34m=\u001b[0m \u001b[0mtraining_data\u001b[0m\u001b[0;34m[\u001b[0m\u001b[0;34m:\u001b[0m\u001b[0;36m500\u001b[0m\u001b[0;34m]\u001b[0m\u001b[0;34m\u001b[0m\u001b[0m\n\u001b[0m\u001b[1;32m      2\u001b[0m \u001b[0mvalidation_input\u001b[0m\u001b[0;34m,\u001b[0m \u001b[0mvalidation_targets\u001b[0m \u001b[0;34m=\u001b[0m \u001b[0mtraining_data\u001b[0m\u001b[0;34m[\u001b[0m\u001b[0;34m:\u001b[0m\u001b[0;34m-\u001b[0m\u001b[0;36m500\u001b[0m\u001b[0;34m]\u001b[0m\u001b[0;34m\u001b[0m\u001b[0m\n\u001b[1;32m      3\u001b[0m \u001b[0;34m\u001b[0m\u001b[0m\n\u001b[1;32m      4\u001b[0m model.fit_generator(\n\u001b[1;32m      5\u001b[0m     \u001b[0mgenerator\u001b[0m\u001b[0;34m=\u001b[0m\u001b[0;34m[\u001b[0m\u001b[0mtraining_input\u001b[0m\u001b[0;34m,\u001b[0m \u001b[0mtraining_targets\u001b[0m\u001b[0;34m]\u001b[0m\u001b[0;34m,\u001b[0m\u001b[0;34m\u001b[0m\u001b[0m\n",
      "\u001b[0;31mValueError\u001b[0m: too many values to unpack"
     ]
    }
   ],
   "source": [
    "training_input = get_working_training_data(training_data)\n",
    "training_image_data, training_result_data = training_input[0]\n",
    "test_image_data, test_result_data = training_input[1]\n",
    "\n",
    "model.fit_generator(\n",
    "    generator=training_input[0],\n",
    "    steps_per_epoch=1000,\n",
    "    epochs=30,\n",
    "    validation_data=training_input[1]\n",
    ")\n",
    "\n",
    "# Save models\n",
    "MODEL_NAME='keras_01.h5'\n",
    "model.save_weights('/{}'.format(MODEL_NAME))"
   ]
  },
  {
   "cell_type": "code",
   "execution_count": null,
   "metadata": {
    "collapsed": true
   },
   "outputs": [],
   "source": []
  }
 ],
 "metadata": {
  "kernelspec": {
   "display_name": "Python 2",
   "language": "python",
   "name": "python2"
  },
  "language_info": {
   "codemirror_mode": {
    "name": "ipython",
    "version": 2
   },
   "file_extension": ".py",
   "mimetype": "text/x-python",
   "name": "python",
   "nbconvert_exporter": "python",
   "pygments_lexer": "ipython2",
   "version": "2.7.12"
  }
 },
 "nbformat": 4,
 "nbformat_minor": 2
}
