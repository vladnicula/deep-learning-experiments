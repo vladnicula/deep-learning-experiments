{
 "cells": [
  {
   "cell_type": "code",
   "execution_count": 7,
   "metadata": {},
   "outputs": [],
   "source": [
    "# Keras attempt\n",
    "# if this works with a similar layout to 02 it means I wrote the networks\n",
    "# in a bad way - which means I need to study more the math and tensorflow matrix\n",
    "# config to understand it better\n",
    "\n",
    "# keras setup is here: http://www.pyimagesearch.com/2016/11/14/installing-keras-with-tensorflow-backend/\n",
    "\n",
    "import os, cv2, random\n",
    "import numpy as np\n",
    "import pandas as pd\n",
    "\n",
    "import matplotlib.pyplot as plt\n",
    "from matplotlib import ticker\n",
    "#import seaborn as sns\n",
    "%matplotlib inline \n",
    "\n",
    "from keras.models import Sequential, load_model\n",
    "from keras.layers import Input, Dropout, Flatten, Convolution2D, MaxPooling2D, Dense, Activation\n",
    "from keras.optimizers import RMSprop\n",
    "from keras.callbacks import ModelCheckpoint, Callback, EarlyStopping\n",
    "from keras.utils import np_utils\n"
   ]
  },
  {
   "cell_type": "code",
   "execution_count": 15,
   "metadata": {},
   "outputs": [
    {
     "name": "stdout",
     "output_type": "stream",
     "text": [
      "Processed 0 of 2000\n",
      "Processed 250 of 2000\n",
      "Processed 500 of 2000\n",
      "Processed 750 of 2000\n",
      "Processed 1000 of 2000\n",
      "Processed 1250 of 2000\n",
      "Processed 1500 of 2000\n",
      "Processed 1750 of 2000\n",
      "Processed 0 of 50\n",
      "Train shape: (2000, 120, 120, 3)\n",
      "Test shape: (50, 120, 120, 3)\n"
     ]
    }
   ],
   "source": [
    "TRAIN_DIR = './input-train/'\n",
    "TEST_DIR = './input-test/'\n",
    "\n",
    "ROWS = 120\n",
    "COLS = 120\n",
    "CHANNELS = 3\n",
    "\n",
    "train_images = [TRAIN_DIR+i for i in os.listdir(TRAIN_DIR)] # use this for full dataset\n",
    "train_dogs =   [TRAIN_DIR+i for i in os.listdir(TRAIN_DIR) if 'dog' in i]\n",
    "train_cats =   [TRAIN_DIR+i for i in os.listdir(TRAIN_DIR) if 'cat' in i]\n",
    "\n",
    "test_images =  [TEST_DIR+i for i in os.listdir(TEST_DIR)]\n",
    "\n",
    "# slice datasets for memory efficiency on Kaggle Kernels, delete if using full dataset\n",
    "train_images = train_dogs[:1000] + train_cats[:1000]\n",
    "# train_images = train_dogs + train_cats\n",
    "random.shuffle(train_images)\n",
    "test_images =  test_images[:50]\n",
    "\n",
    "def read_image(file_path):\n",
    "    img = cv2.imread(file_path, cv2.IMREAD_COLOR) #cv2.IMREAD_GRAYSCALE\n",
    "    return cv2.resize(img, (ROWS, COLS), interpolation=cv2.INTER_CUBIC)\n",
    "\n",
    "def prep_data(images):\n",
    "    count = len(images)\n",
    "    data = np.ndarray((count, ROWS, COLS, CHANNELS), dtype=np.uint8)\n",
    "\n",
    "    for i, image_file in enumerate(images):\n",
    "        image = read_image(image_file)\n",
    "        data[i] = image\n",
    "        if i%250 == 0: print('Processed {} of {}'.format(i, count))\n",
    "    \n",
    "    return data\n",
    "\n",
    "train = prep_data(train_images)\n",
    "test = prep_data(test_images)\n",
    "\n",
    "print(\"Train shape: {}\".format(train.shape))\n",
    "print(\"Test shape: {}\".format(test.shape))"
   ]
  },
  {
   "cell_type": "code",
   "execution_count": 17,
   "metadata": {
    "collapsed": true
   },
   "outputs": [],
   "source": [
    "labels = []\n",
    "for i in train_images:\n",
    "    if 'dog' in i:\n",
    "        labels.append(1)\n",
    "    else:\n",
    "        labels.append(0)\n",
    "\n",
    "#sns.countplot(labels)\n",
    "#sns.plt.title('Cats and Dogs')"
   ]
  },
  {
   "cell_type": "code",
   "execution_count": 18,
   "metadata": {
    "collapsed": true
   },
   "outputs": [],
   "source": [
    "optimizer = RMSprop(lr=1e-4)\n",
    "objective = 'binary_crossentropy'"
   ]
  },
  {
   "cell_type": "code",
   "execution_count": 19,
   "metadata": {
    "collapsed": true
   },
   "outputs": [],
   "source": [
    "def catdog():\n",
    "    \n",
    "    model = Sequential()\n",
    "\n",
    "    model.add(Convolution2D(32, (3, 3), padding='same', input_shape=(ROWS, COLS, 3), activation='relu'))\n",
    "    model.add(Convolution2D(32, (3, 3), padding='same', activation='relu'))\n",
    "    model.add(MaxPooling2D(pool_size=(2, 2)))\n",
    "\n",
    "    model.add(Convolution2D(64, (3, 3), padding='same', activation='relu'))\n",
    "    model.add(Convolution2D(64, (3, 3), padding='same', activation='relu'))\n",
    "    model.add(MaxPooling2D(pool_size=(2, 2)))\n",
    "    \n",
    "    model.add(Convolution2D(128, (3, 3), padding='same', activation='relu'))\n",
    "    model.add(Convolution2D(128, (3, 3), padding='same', activation='relu'))\n",
    "    model.add(MaxPooling2D(pool_size=(2, 2)))\n",
    "    \n",
    "    model.add(Convolution2D(256, (3, 3), padding='same', activation='relu'))\n",
    "    model.add(Convolution2D(256, (3, 3), padding='same', activation='relu'))\n",
    "#     model.add(Convolution2D(256, 3, 3, border_mode='same', activation='relu'))\n",
    "    model.add(MaxPooling2D(pool_size=(2, 2)))\n",
    "\n",
    "#     model.add(Convolution2D(256, 3, 3, border_mode='same', activation='relu'))\n",
    "#     model.add(Convolution2D(256, 3, 3, border_mode='same', activation='relu'))\n",
    "#     model.add(Convolution2D(256, 3, 3, border_mode='same', activation='relu'))\n",
    "#     model.add(MaxPooling2D(pool_size=(2, 2)))\n",
    "\n",
    "    model.add(Flatten())\n",
    "    model.add(Dense(256, activation='relu'))\n",
    "    model.add(Dropout(0.5))\n",
    "    \n",
    "    model.add(Dense(256, activation='relu'))\n",
    "    model.add(Dropout(0.5))\n",
    "\n",
    "    model.add(Dense(1))\n",
    "    model.add(Activation('sigmoid'))\n",
    "\n",
    "    model.compile(loss=objective, optimizer=optimizer, metrics=['accuracy'])\n",
    "    return model\n",
    "\n",
    "model = catdog()"
   ]
  },
  {
   "cell_type": "code",
   "execution_count": 24,
   "metadata": {},
   "outputs": [
    {
     "name": "stdout",
     "output_type": "stream",
     "text": [
      "Start Training Epoch 0\n",
      "Epoch 0 ended wtih 0.711374922593 train loss and 0.691471278667 validation loss\n",
      "Curreny accuracy is 0.505333330234 training and 0.558000007272 validation\n",
      "Start Training Epoch 1\n",
      "Epoch 1 ended wtih 0.704701034228 train loss and 0.688522511721 validation loss\n",
      "Curreny accuracy is 0.526666666071 training and 0.53599999845 validation\n",
      "Start Training Epoch 2\n",
      "Epoch 2 ended wtih 0.707649960121 train loss and 0.68608404398 validation loss\n",
      "Curreny accuracy is 0.515333335598 training and 0.531999999285 validation\n",
      "Start Training Epoch 3\n",
      "Epoch 3 ended wtih 0.696130510171 train loss and 0.691494971514 validation loss\n",
      "Curreny accuracy is 0.541999998689 training and 0.497999998927 validation\n",
      "Start Training Epoch 4\n",
      "Epoch 4 ended wtih 0.691825656096 train loss and 1.34473618269 validation loss\n",
      "Curreny accuracy is 0.543333331744 training and 0.486000001431 validation\n",
      "Start Training Epoch 5\n",
      "Epoch 5 ended wtih 0.708502282699 train loss and 0.667939203978 validation loss\n",
      "Curreny accuracy is 0.535333333413 training and 0.565999993682 validation\n",
      "Start Training Epoch 6\n",
      "Epoch 6 ended wtih 0.682145124674 train loss and 0.695139861107 validation loss\n",
      "Curreny accuracy is 0.546000000834 training and 0.565999999642 validation\n",
      "Start Training Epoch 7\n",
      "Epoch 7 ended wtih 0.683820597331 train loss and 0.690052425861 validation loss\n",
      "Curreny accuracy is 0.559333328406 training and 0.586000010371 validation\n",
      "Start Training Epoch 8\n",
      "Epoch 8 ended wtih 0.668171874682 train loss and 0.758108824492 validation loss\n",
      "Curreny accuracy is 0.58800000151 training and 0.508000001311 validation\n",
      "Start Training Epoch 9\n",
      "Epoch 9 ended wtih 0.668576939901 train loss and 0.658917140961 validation loss\n",
      "Curreny accuracy is 0.577333334088 training and 0.591999989748 validation\n",
      "Start Training Epoch 10\n",
      "Epoch 10 ended wtih 0.675731317202 train loss and 0.685006481409 validation loss\n",
      "Curreny accuracy is 0.572000002861 training and 0.570000013709 validation\n",
      "Start Training Epoch 11\n",
      "Epoch 11 ended wtih 0.653866004944 train loss and 0.642845606804 validation loss\n",
      "Curreny accuracy is 0.592000000676 training and 0.61400000155 validation\n",
      "Start Training Epoch 12\n",
      "Epoch 12 ended wtih 0.655972760916 train loss and 0.635487395525 validation loss\n",
      "Curreny accuracy is 0.608000002305 training and 0.620000010729 validation\n",
      "Start Training Epoch 13\n",
      "Epoch 13 ended wtih 0.657524355253 train loss and 0.63585909009 validation loss\n",
      "Curreny accuracy is 0.619999999801 training and 0.628000000119 validation\n",
      "Start Training Epoch 14\n",
      "Epoch 14 ended wtih 0.642383654912 train loss and 0.684121537209 validation loss\n",
      "Curreny accuracy is 0.629333336155 training and 0.55 validation\n",
      "Start Training Epoch 15\n",
      "Epoch 15 ended wtih 0.629831616084 train loss and 0.816430449486 validation loss\n",
      "Curreny accuracy is 0.630000005166 training and 0.56400000751 validation\n",
      "Start Training Epoch 16\n",
      "Epoch 16 ended wtih 0.647965077559 train loss and 0.604464951158 validation loss\n",
      "Curreny accuracy is 0.646000003815 training and 0.661999994516 validation\n",
      "Start Training Epoch 17\n",
      "Epoch 17 ended wtih 0.611564489206 train loss and 0.664336383343 validation loss\n",
      "Curreny accuracy is 0.681333333254 training and 0.629999998212 validation\n",
      "Start Training Epoch 18\n",
      "Epoch 18 ended wtih 0.595554633935 train loss and 0.592802241445 validation loss\n",
      "Curreny accuracy is 0.67866666913 training and 0.680000007153 validation\n",
      "Start Training Epoch 19\n",
      "Epoch 19 ended wtih 0.618154192964 train loss and 0.589501583576 validation loss\n",
      "Curreny accuracy is 0.65466667215 training and 0.650000011921 validation\n"
     ]
    }
   ],
   "source": [
    "epochs = 20\n",
    "batch_size = 50\n",
    "\n",
    "## Callback for loss logging per epoch\n",
    "class LossHistory(Callback):\n",
    "    def on_train_begin(self, logs={}):\n",
    "        self.losses = []\n",
    "        self.val_losses = []\n",
    "        \n",
    "\n",
    "    def on_epoch_begin(self, epoch, logs={}):\n",
    "        print ('Start Training Epoch {}'.format(epoch))\n",
    "        \n",
    "    def on_epoch_end(self, epoch, logs={}):\n",
    "        self.losses.append(logs.get('loss'))\n",
    "        self.val_losses.append(logs.get('val_loss')) \n",
    "        print('Epoch {} ended wtih {} train loss and {} validation loss'.format(\n",
    "            epoch, logs.get('loss'), logs.get('val_loss')\n",
    "        ))\n",
    "        print('Curreny accuracy is {} training and {} validation'.format(\n",
    "            logs.get('acc'), logs.get('val_acc')\n",
    "        ))\n",
    "\n",
    "early_stopping = EarlyStopping(monitor='val_loss', patience=3, verbose=1, mode='auto')        \n",
    "        \n",
    "def run_catdog():\n",
    "    \n",
    "    history = LossHistory()\n",
    "    model.fit(train, labels, batch_size=batch_size, epochs=epochs,\n",
    "              validation_split=0.25, verbose=0, shuffle=True, callbacks=[history, early_stopping])\n",
    "    \n",
    "    return history\n",
    "\n",
    "history = run_catdog()"
   ]
  },
  {
   "cell_type": "code",
   "execution_count": 25,
   "metadata": {},
   "outputs": [
    {
     "data": {
      "image/png": "[encoded data removed]",
      "text/plain": [
       "<matplotlib.figure.Figure at 0x7f8987772d50>"
      ]
     },
     "metadata": {},
     "output_type": "display_data"
    }
   ],
   "source": [
    "loss = history.losses\n",
    "val_loss = history.val_losses\n",
    "\n",
    "plt.xlabel('Epochs')\n",
    "plt.ylabel('Loss')\n",
    "plt.title('VGG-16 Loss Trend')\n",
    "plt.plot(loss, 'blue', label='Training Loss')\n",
    "plt.plot(val_loss, 'green', label='Validation Loss')\n",
    "plt.xticks(range(0,epochs)[0::2])\n",
    "plt.legend()\n",
    "plt.show()"
   ]
  },
  {
   "cell_type": "code",
   "execution_count": 26,
   "metadata": {
    "collapsed": true
   },
   "outputs": [],
   "source": [
    "MODEL_PATH=\"./24junevnnsmall.h5\""
   ]
  },
  {
   "cell_type": "code",
   "execution_count": 30,
   "metadata": {
    "collapsed": true
   },
   "outputs": [],
   "source": [
    "model.save(MODEL_PATH)"
   ]
  },
  {
   "cell_type": "code",
   "execution_count": 31,
   "metadata": {},
   "outputs": [],
   "source": [
    "def run_prediction():\n",
    "    predictions = model.predict(test, verbose=0)\n",
    "    print predictions\n",
    "    for i in range(0,10):\n",
    "        if predictions[i, 0] >= 0.5: \n",
    "            print('I am {:.2%} sure this is a Dog'.format(predictions[i][0]))\n",
    "        else: \n",
    "            print('I am {:.2%} sure this is a Cat'.format(1-predictions[i][0]))\n",
    "\n",
    "        plt.imshow(test[i])\n",
    "        plt.show()\n"
   ]
  },
  {
   "cell_type": "code",
   "execution_count": 32,
   "metadata": {},
   "outputs": [],
   "source": [
    "model = load_model(MODEL_PATH)"
   ]
  },
  {
   "cell_type": "code",
   "execution_count": null,
   "metadata": {
    "collapsed": true
   },
   "outputs": [],
   "source": []
  }
 ],
 "metadata": {
  "kernelspec": {
   "display_name": "Python 2",
   "language": "python",
   "name": "python2"
  },
  "language_info": {
   "codemirror_mode": {
    "name": "ipython",
    "version": 2
   },
   "file_extension": ".py",
   "mimetype": "text/x-python",
   "name": "python",
   "nbconvert_exporter": "python",
   "pygments_lexer": "ipython2",
   "version": "2.7.12"
  }
 },
 "nbformat": 4,
 "nbformat_minor": 2
}
