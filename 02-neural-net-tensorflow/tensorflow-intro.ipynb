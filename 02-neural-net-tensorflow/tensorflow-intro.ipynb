{
 "cells": [
  {
   "cell_type": "code",
   "execution_count": 2,
   "metadata": {
    "collapsed": true,
    "scrolled": true
   },
   "outputs": [],
   "source": [
    "# main lib, uses only CPU. tensorflow-gpu would run gpu as well if poossible\n",
    "import tensorflow as tf"
   ]
  },
  {
   "cell_type": "code",
   "execution_count": 8,
   "metadata": {},
   "outputs": [
    {
     "name": "stdout",
     "output_type": "stream",
     "text": [
      "Tensor(\"Const_2:0\", shape=(), dtype=int32)\n",
      "Tensor(\"Const_3:0\", shape=(), dtype=int32)\n"
     ]
    }
   ],
   "source": [
    "# declares variables or constants that will be used in the operations of tensorflow\n",
    "# the main idea is that we create these statements before runing the learning/training\n",
    "# and configure a tensorflow 'receipe' that will be run later\n",
    "x1 = tf.constant(5)\n",
    "x2 = tf.constant(6)\n",
    "\n",
    "print x1\n",
    "print x2"
   ]
  },
  {
   "cell_type": "code",
   "execution_count": 9,
   "metadata": {},
   "outputs": [
    {
     "name": "stdout",
     "output_type": "stream",
     "text": [
      "Tensor(\"Mul_2:0\", shape=(), dtype=int32)\n"
     ]
    }
   ],
   "source": [
    "# a matrix multiplcation, which in the case of x1 and x2 \n",
    "# is a simple multiplication of two numbers\n",
    "# result is just an indication, an object that tensorflow will \n",
    "# use to perform an operation when we run the leanring/training later\n",
    "result = tf.multiply(x1, x2)\n",
    "\n",
    "print result"
   ]
  },
  {
   "cell_type": "code",
   "execution_count": 10,
   "metadata": {},
   "outputs": [
    {
     "name": "stdout",
     "output_type": "stream",
     "text": [
      "30\n"
     ]
    }
   ],
   "source": [
    "# session is the way we run the instructions we declared previously\n",
    "\n",
    "sess = tf.Session()\n",
    "print(sess.run(result))"
   ]
  },
  {
   "cell_type": "code",
   "execution_count": 12,
   "metadata": {},
   "outputs": [
    {
     "name": "stdout",
     "output_type": "stream",
     "text": [
      "30\n"
     ]
    }
   ],
   "source": [
    "# a better way to run the session is the following\n",
    "# within the with we will eventually have the training (the while/for for the neural network)\n",
    "with tf.Session() as sess:\n",
    "    output = sess.run(result)\n",
    "    \n",
    "print(output)"
   ]
  },
  {
   "cell_type": "code",
   "execution_count": null,
   "metadata": {
    "collapsed": true
   },
   "outputs": [],
   "source": []
  }
 ],
 "metadata": {
  "kernelspec": {
   "display_name": "Python 2",
   "language": "python",
   "name": "python2"
  },
  "language_info": {
   "codemirror_mode": {
    "name": "ipython",
    "version": 2
   },
   "file_extension": ".py",
   "mimetype": "text/x-python",
   "name": "python",
   "nbconvert_exporter": "python",
   "pygments_lexer": "ipython2",
   "version": "2.7.12"
  }
 },
 "nbformat": 4,
 "nbformat_minor": 2
}
